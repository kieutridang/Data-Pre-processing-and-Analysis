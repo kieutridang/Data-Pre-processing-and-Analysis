{
 "cells": [
  {
   "cell_type": "markdown",
   "metadata": {},
   "source": [
    "<a href=\"https://archive.ics.uci.edu/ml/datasets/wine+quality\"><img src=\"https://archive.ics.uci.edu/ml/assets/logo.gif\" width=\"400\" align=\"center\"></a>\n",
    "\n",
    "<h1 align=\"center\"><font size=\"5\">Project: Automobile - Predict \"Price\"</font></h1>\n",
    "<h2 align=\"center\"><font size=\"5\">Deadline: 2020-11-29 18:00:00</font></h2>\n",
    "<h3 align=\"center\"><font size=\"5\"> Total marks: 4.0</font></h3>"
   ]
  },
  {
   "cell_type": "markdown",
   "metadata": {},
   "source": [
    "### Your information:\n",
    "- Fullname: Kiều Trí Đăng\n",
    "- Date of birth: September 19th 1993\n",
    "- Place of birth: Ho Chi Minh city\n",
    "- Email: kieutridang@gmail.com\n",
    "- Mobile phone: 0397979870"
   ]
  },
  {
   "cell_type": "markdown",
   "metadata": {},
   "source": [
    "In this notebook, we practice all the knowledge and skills that we learned in this course.\n",
    "\n",
    "We apply the **Linear Algorithm** to predict: \"price of car\" by accuracy evaluation methods."
   ]
  },
  {
   "cell_type": "markdown",
   "metadata": {},
   "source": [
    "Please read [Automobile information](https://archive.ics.uci.edu/ml/datasets/Automobile) carefully before you do this project!"
   ]
  },
  {
   "cell_type": "markdown",
   "metadata": {},
   "source": [
    "Dataset: imports_85.csv"
   ]
  },
  {
   "cell_type": "markdown",
   "metadata": {},
   "source": [
    "#### Attribute Information:\n",
    "Attribute: Attribute Range\n",
    "1. symboling: -3, -2, -1, 0, 1, 2, 3.\n",
    "2. normalized-losses: continuous from 65 to 256.\n",
    "3. make:\n",
    "alfa-romero, audi, bmw, chevrolet, dodge, honda,\n",
    "isuzu, jaguar, mazda, mercedes-benz, mercury,\n",
    "mitsubishi, nissan, peugot, plymouth, porsche,\n",
    "renault, saab, subaru, toyota, volkswagen, volvo\n",
    "\n",
    "4. fuel-type: diesel, gas.\n",
    "5. aspiration: std, turbo.\n",
    "6. num-of-doors: four, two.\n",
    "7. body-style: hardtop, wagon, sedan, hatchback, convertible.\n",
    "8. drive-wheels: 4wd, fwd, rwd.\n",
    "9. engine-location: front, rear.\n",
    "10. wheel-base: continuous from 86.6 120.9.\n",
    "11. length: continuous from 141.1 to 208.1.\n",
    "12. width: continuous from 60.3 to 72.3.\n",
    "13. height: continuous from 47.8 to 59.8.\n",
    "14. curb-weight: continuous from 1488 to 4066.\n",
    "15. engine-type: dohc, dohcv, l, ohc, ohcf, ohcv, rotor.\n",
    "16. num-of-cylinders: eight, five, four, six, three, twelve, two.\n",
    "17. engine-size: continuous from 61 to 326.\n",
    "18. fuel-system: 1bbl, 2bbl, 4bbl, idi, mfi, mpfi, spdi, spfi.\n",
    "19. bore: continuous from 2.54 to 3.94.\n",
    "20. stroke: continuous from 2.07 to 4.17.\n",
    "21. compression-ratio: continuous from 7 to 23.\n",
    "22. horsepower: continuous from 48 to 288.\n",
    "23. peak-rpm: continuous from 4150 to 6600.\n",
    "24. city-mpg: continuous from 13 to 49.\n",
    "25. highway-mpg: continuous from 16 to 54.\n",
    "26. price: continuous from 5118 to 45400."
   ]
  },
  {
   "cell_type": "markdown",
   "metadata": {},
   "source": [
    "### Requirements:"
   ]
  },
  {
   "cell_type": "markdown",
   "metadata": {},
   "source": [
    "- Data exploration\n",
    "- Data visualization\n",
    "- Pre-processing: Feature selection/extraction\n",
    "- Linear Regression\n",
    "    - Model Evaluation using Test set\n",
    "    - Report"
   ]
  },
  {
   "cell_type": "code",
   "execution_count": 7,
   "metadata": {},
   "outputs": [],
   "source": [
    "import numpy as np\n",
    "import matplotlib.pyplot as plt\n",
    "import pandas as pd\n",
    "import seaborn as sns\n",
    "import scipy"
   ]
  },
  {
   "cell_type": "code",
   "execution_count": 8,
   "metadata": {},
   "outputs": [],
   "source": [
    "missing_values = ['?','--','-','??','.']"
   ]
  },
  {
   "cell_type": "code",
   "execution_count": 9,
   "metadata": {},
   "outputs": [
    {
     "output_type": "execute_result",
     "data": {
      "text/plain": [
       "   symboling  normalized-losses         make fuel-type aspiration  \\\n",
       "0          3                NaN  alfa-romero       gas        std   \n",
       "1          1                NaN  alfa-romero       gas        std   \n",
       "2          2              164.0         audi       gas        std   \n",
       "3          2              164.0         audi       gas        std   \n",
       "4          2                NaN         audi       gas        std   \n",
       "\n",
       "  num-of-doors   body-style drive-wheels engine-location  wheel-base  ...  \\\n",
       "0          two  convertible          rwd           front        88.6  ...   \n",
       "1          two    hatchback          rwd           front        94.5  ...   \n",
       "2         four        sedan          fwd           front        99.8  ...   \n",
       "3         four        sedan          4wd           front        99.4  ...   \n",
       "4          two        sedan          fwd           front        99.8  ...   \n",
       "\n",
       "   engine-size  fuel-system  bore  stroke compression-ratio horsepower  \\\n",
       "0          130         mpfi  3.47    2.68               9.0      111.0   \n",
       "1          152         mpfi  2.68    3.47               9.0      154.0   \n",
       "2          109         mpfi  3.19    3.40              10.0      102.0   \n",
       "3          136         mpfi  3.19    3.40               8.0      115.0   \n",
       "4          136         mpfi  3.19    3.40               8.5      110.0   \n",
       "\n",
       "   peak-rpm city-mpg  highway-mpg    price  \n",
       "0    5000.0       21           27  16500.0  \n",
       "1    5000.0       19           26  16500.0  \n",
       "2    5500.0       24           30  13950.0  \n",
       "3    5500.0       18           22  17450.0  \n",
       "4    5500.0       19           25  15250.0  \n",
       "\n",
       "[5 rows x 26 columns]"
      ],
      "text/html": "<div>\n<style scoped>\n    .dataframe tbody tr th:only-of-type {\n        vertical-align: middle;\n    }\n\n    .dataframe tbody tr th {\n        vertical-align: top;\n    }\n\n    .dataframe thead th {\n        text-align: right;\n    }\n</style>\n<table border=\"1\" class=\"dataframe\">\n  <thead>\n    <tr style=\"text-align: right;\">\n      <th></th>\n      <th>symboling</th>\n      <th>normalized-losses</th>\n      <th>make</th>\n      <th>fuel-type</th>\n      <th>aspiration</th>\n      <th>num-of-doors</th>\n      <th>body-style</th>\n      <th>drive-wheels</th>\n      <th>engine-location</th>\n      <th>wheel-base</th>\n      <th>...</th>\n      <th>engine-size</th>\n      <th>fuel-system</th>\n      <th>bore</th>\n      <th>stroke</th>\n      <th>compression-ratio</th>\n      <th>horsepower</th>\n      <th>peak-rpm</th>\n      <th>city-mpg</th>\n      <th>highway-mpg</th>\n      <th>price</th>\n    </tr>\n  </thead>\n  <tbody>\n    <tr>\n      <th>0</th>\n      <td>3</td>\n      <td>NaN</td>\n      <td>alfa-romero</td>\n      <td>gas</td>\n      <td>std</td>\n      <td>two</td>\n      <td>convertible</td>\n      <td>rwd</td>\n      <td>front</td>\n      <td>88.6</td>\n      <td>...</td>\n      <td>130</td>\n      <td>mpfi</td>\n      <td>3.47</td>\n      <td>2.68</td>\n      <td>9.0</td>\n      <td>111.0</td>\n      <td>5000.0</td>\n      <td>21</td>\n      <td>27</td>\n      <td>16500.0</td>\n    </tr>\n    <tr>\n      <th>1</th>\n      <td>1</td>\n      <td>NaN</td>\n      <td>alfa-romero</td>\n      <td>gas</td>\n      <td>std</td>\n      <td>two</td>\n      <td>hatchback</td>\n      <td>rwd</td>\n      <td>front</td>\n      <td>94.5</td>\n      <td>...</td>\n      <td>152</td>\n      <td>mpfi</td>\n      <td>2.68</td>\n      <td>3.47</td>\n      <td>9.0</td>\n      <td>154.0</td>\n      <td>5000.0</td>\n      <td>19</td>\n      <td>26</td>\n      <td>16500.0</td>\n    </tr>\n    <tr>\n      <th>2</th>\n      <td>2</td>\n      <td>164.0</td>\n      <td>audi</td>\n      <td>gas</td>\n      <td>std</td>\n      <td>four</td>\n      <td>sedan</td>\n      <td>fwd</td>\n      <td>front</td>\n      <td>99.8</td>\n      <td>...</td>\n      <td>109</td>\n      <td>mpfi</td>\n      <td>3.19</td>\n      <td>3.40</td>\n      <td>10.0</td>\n      <td>102.0</td>\n      <td>5500.0</td>\n      <td>24</td>\n      <td>30</td>\n      <td>13950.0</td>\n    </tr>\n    <tr>\n      <th>3</th>\n      <td>2</td>\n      <td>164.0</td>\n      <td>audi</td>\n      <td>gas</td>\n      <td>std</td>\n      <td>four</td>\n      <td>sedan</td>\n      <td>4wd</td>\n      <td>front</td>\n      <td>99.4</td>\n      <td>...</td>\n      <td>136</td>\n      <td>mpfi</td>\n      <td>3.19</td>\n      <td>3.40</td>\n      <td>8.0</td>\n      <td>115.0</td>\n      <td>5500.0</td>\n      <td>18</td>\n      <td>22</td>\n      <td>17450.0</td>\n    </tr>\n    <tr>\n      <th>4</th>\n      <td>2</td>\n      <td>NaN</td>\n      <td>audi</td>\n      <td>gas</td>\n      <td>std</td>\n      <td>two</td>\n      <td>sedan</td>\n      <td>fwd</td>\n      <td>front</td>\n      <td>99.8</td>\n      <td>...</td>\n      <td>136</td>\n      <td>mpfi</td>\n      <td>3.19</td>\n      <td>3.40</td>\n      <td>8.5</td>\n      <td>110.0</td>\n      <td>5500.0</td>\n      <td>19</td>\n      <td>25</td>\n      <td>15250.0</td>\n    </tr>\n  </tbody>\n</table>\n<p>5 rows × 26 columns</p>\n</div>"
     },
     "metadata": {},
     "execution_count": 9
    }
   ],
   "source": [
    "cars = pd.read_csv('./imports_85.csv',na_values = missing_values)\n",
    "columns = ['symboling',\n",
    "'normalized-losses',\n",
    "'make',\n",
    "'fuel-type',\n",
    "'aspiration',\n",
    "'num-of-doors',\n",
    "'body-style',\n",
    "'drive-wheels',\n",
    "'engine-location',\n",
    " 'wheel-base',\n",
    " 'length',\n",
    " 'width',\n",
    " 'height',\n",
    " 'curb-weight',\n",
    " 'engine-type',\n",
    " 'num-of-cylinders',\n",
    " 'engine-size',\n",
    " 'fuel-system',\n",
    " 'bore',\n",
    " 'stroke',\n",
    " 'compression-ratio',\n",
    " 'horsepower',\n",
    " 'peak-rpm',\n",
    " 'city-mpg',\n",
    " 'highway-mpg',\n",
    " 'price'\n",
    " ]\n",
    "cars.columns = columns\n",
    "cars.head()"
   ]
  },
  {
   "cell_type": "code",
   "execution_count": 10,
   "metadata": {},
   "outputs": [
    {
     "output_type": "execute_result",
     "data": {
      "text/plain": [
       "        symboling  normalized-losses  wheel-base      length       width  \\\n",
       "count  204.000000         164.000000  204.000000  204.000000  204.000000   \n",
       "mean     0.823529         122.000000   98.806373  174.075000   65.916667   \n",
       "std      1.239035          35.442168    5.994144   12.362123    2.146716   \n",
       "min     -2.000000          65.000000   86.600000  141.100000   60.300000   \n",
       "25%      0.000000          94.000000   94.500000  166.300000   64.075000   \n",
       "50%      1.000000         115.000000   97.000000  173.200000   65.500000   \n",
       "75%      2.000000         150.000000  102.400000  183.200000   66.900000   \n",
       "max      3.000000         256.000000  120.900000  208.100000   72.300000   \n",
       "\n",
       "           height  curb-weight  engine-size        bore      stroke  \\\n",
       "count  204.000000   204.000000   204.000000  200.000000  200.000000   \n",
       "mean    53.749020  2555.602941   126.892157    3.329050    3.258300   \n",
       "std      2.424901   521.960820    41.744569    0.274044    0.314868   \n",
       "min     47.800000  1488.000000    61.000000    2.540000    2.070000   \n",
       "25%     52.000000  2145.000000    97.000000    3.150000    3.110000   \n",
       "50%     54.100000  2414.000000   119.500000    3.310000    3.290000   \n",
       "75%     55.500000  2939.250000   142.000000    3.590000    3.410000   \n",
       "max     59.800000  4066.000000   326.000000    3.940000    4.170000   \n",
       "\n",
       "       compression-ratio  horsepower     peak-rpm    city-mpg  highway-mpg  \\\n",
       "count         204.000000  202.000000   202.000000  204.000000   204.000000   \n",
       "mean           10.148137  104.222772  5125.990099   25.240196    30.769608   \n",
       "std             3.981000   39.810182   480.443680    6.551513     6.898337   \n",
       "min             7.000000   48.000000  4150.000000   13.000000    16.000000   \n",
       "25%             8.575000   70.000000  4800.000000   19.000000    25.000000   \n",
       "50%             9.000000   95.000000  5200.000000   24.000000    30.000000   \n",
       "75%             9.400000  116.000000  5500.000000   30.000000    34.500000   \n",
       "max            23.000000  288.000000  6600.000000   49.000000    54.000000   \n",
       "\n",
       "              price  \n",
       "count    200.000000  \n",
       "mean   13205.690000  \n",
       "std     7966.982558  \n",
       "min     5118.000000  \n",
       "25%     7775.000000  \n",
       "50%    10270.000000  \n",
       "75%    16500.750000  \n",
       "max    45400.000000  "
      ],
      "text/html": "<div>\n<style scoped>\n    .dataframe tbody tr th:only-of-type {\n        vertical-align: middle;\n    }\n\n    .dataframe tbody tr th {\n        vertical-align: top;\n    }\n\n    .dataframe thead th {\n        text-align: right;\n    }\n</style>\n<table border=\"1\" class=\"dataframe\">\n  <thead>\n    <tr style=\"text-align: right;\">\n      <th></th>\n      <th>symboling</th>\n      <th>normalized-losses</th>\n      <th>wheel-base</th>\n      <th>length</th>\n      <th>width</th>\n      <th>height</th>\n      <th>curb-weight</th>\n      <th>engine-size</th>\n      <th>bore</th>\n      <th>stroke</th>\n      <th>compression-ratio</th>\n      <th>horsepower</th>\n      <th>peak-rpm</th>\n      <th>city-mpg</th>\n      <th>highway-mpg</th>\n      <th>price</th>\n    </tr>\n  </thead>\n  <tbody>\n    <tr>\n      <th>count</th>\n      <td>204.000000</td>\n      <td>164.000000</td>\n      <td>204.000000</td>\n      <td>204.000000</td>\n      <td>204.000000</td>\n      <td>204.000000</td>\n      <td>204.000000</td>\n      <td>204.000000</td>\n      <td>200.000000</td>\n      <td>200.000000</td>\n      <td>204.000000</td>\n      <td>202.000000</td>\n      <td>202.000000</td>\n      <td>204.000000</td>\n      <td>204.000000</td>\n      <td>200.000000</td>\n    </tr>\n    <tr>\n      <th>mean</th>\n      <td>0.823529</td>\n      <td>122.000000</td>\n      <td>98.806373</td>\n      <td>174.075000</td>\n      <td>65.916667</td>\n      <td>53.749020</td>\n      <td>2555.602941</td>\n      <td>126.892157</td>\n      <td>3.329050</td>\n      <td>3.258300</td>\n      <td>10.148137</td>\n      <td>104.222772</td>\n      <td>5125.990099</td>\n      <td>25.240196</td>\n      <td>30.769608</td>\n      <td>13205.690000</td>\n    </tr>\n    <tr>\n      <th>std</th>\n      <td>1.239035</td>\n      <td>35.442168</td>\n      <td>5.994144</td>\n      <td>12.362123</td>\n      <td>2.146716</td>\n      <td>2.424901</td>\n      <td>521.960820</td>\n      <td>41.744569</td>\n      <td>0.274044</td>\n      <td>0.314868</td>\n      <td>3.981000</td>\n      <td>39.810182</td>\n      <td>480.443680</td>\n      <td>6.551513</td>\n      <td>6.898337</td>\n      <td>7966.982558</td>\n    </tr>\n    <tr>\n      <th>min</th>\n      <td>-2.000000</td>\n      <td>65.000000</td>\n      <td>86.600000</td>\n      <td>141.100000</td>\n      <td>60.300000</td>\n      <td>47.800000</td>\n      <td>1488.000000</td>\n      <td>61.000000</td>\n      <td>2.540000</td>\n      <td>2.070000</td>\n      <td>7.000000</td>\n      <td>48.000000</td>\n      <td>4150.000000</td>\n      <td>13.000000</td>\n      <td>16.000000</td>\n      <td>5118.000000</td>\n    </tr>\n    <tr>\n      <th>25%</th>\n      <td>0.000000</td>\n      <td>94.000000</td>\n      <td>94.500000</td>\n      <td>166.300000</td>\n      <td>64.075000</td>\n      <td>52.000000</td>\n      <td>2145.000000</td>\n      <td>97.000000</td>\n      <td>3.150000</td>\n      <td>3.110000</td>\n      <td>8.575000</td>\n      <td>70.000000</td>\n      <td>4800.000000</td>\n      <td>19.000000</td>\n      <td>25.000000</td>\n      <td>7775.000000</td>\n    </tr>\n    <tr>\n      <th>50%</th>\n      <td>1.000000</td>\n      <td>115.000000</td>\n      <td>97.000000</td>\n      <td>173.200000</td>\n      <td>65.500000</td>\n      <td>54.100000</td>\n      <td>2414.000000</td>\n      <td>119.500000</td>\n      <td>3.310000</td>\n      <td>3.290000</td>\n      <td>9.000000</td>\n      <td>95.000000</td>\n      <td>5200.000000</td>\n      <td>24.000000</td>\n      <td>30.000000</td>\n      <td>10270.000000</td>\n    </tr>\n    <tr>\n      <th>75%</th>\n      <td>2.000000</td>\n      <td>150.000000</td>\n      <td>102.400000</td>\n      <td>183.200000</td>\n      <td>66.900000</td>\n      <td>55.500000</td>\n      <td>2939.250000</td>\n      <td>142.000000</td>\n      <td>3.590000</td>\n      <td>3.410000</td>\n      <td>9.400000</td>\n      <td>116.000000</td>\n      <td>5500.000000</td>\n      <td>30.000000</td>\n      <td>34.500000</td>\n      <td>16500.750000</td>\n    </tr>\n    <tr>\n      <th>max</th>\n      <td>3.000000</td>\n      <td>256.000000</td>\n      <td>120.900000</td>\n      <td>208.100000</td>\n      <td>72.300000</td>\n      <td>59.800000</td>\n      <td>4066.000000</td>\n      <td>326.000000</td>\n      <td>3.940000</td>\n      <td>4.170000</td>\n      <td>23.000000</td>\n      <td>288.000000</td>\n      <td>6600.000000</td>\n      <td>49.000000</td>\n      <td>54.000000</td>\n      <td>45400.000000</td>\n    </tr>\n  </tbody>\n</table>\n</div>"
     },
     "metadata": {},
     "execution_count": 10
    }
   ],
   "source": [
    "cars.describe()"
   ]
  },
  {
   "cell_type": "code",
   "execution_count": 11,
   "metadata": {},
   "outputs": [
    {
     "output_type": "stream",
     "name": "stdout",
     "text": [
      "<class 'pandas.core.frame.DataFrame'>\nRangeIndex: 204 entries, 0 to 203\nData columns (total 26 columns):\n #   Column             Non-Null Count  Dtype  \n---  ------             --------------  -----  \n 0   symboling          204 non-null    int64  \n 1   normalized-losses  164 non-null    float64\n 2   make               204 non-null    object \n 3   fuel-type          204 non-null    object \n 4   aspiration         204 non-null    object \n 5   num-of-doors       202 non-null    object \n 6   body-style         204 non-null    object \n 7   drive-wheels       204 non-null    object \n 8   engine-location    204 non-null    object \n 9   wheel-base         204 non-null    float64\n 10  length             204 non-null    float64\n 11  width              204 non-null    float64\n 12  height             204 non-null    float64\n 13  curb-weight        204 non-null    int64  \n 14  engine-type        204 non-null    object \n 15  num-of-cylinders   204 non-null    object \n 16  engine-size        204 non-null    int64  \n 17  fuel-system        204 non-null    object \n 18  bore               200 non-null    float64\n 19  stroke             200 non-null    float64\n 20  compression-ratio  204 non-null    float64\n 21  horsepower         202 non-null    float64\n 22  peak-rpm           202 non-null    float64\n 23  city-mpg           204 non-null    int64  \n 24  highway-mpg        204 non-null    int64  \n 25  price              200 non-null    float64\ndtypes: float64(11), int64(5), object(10)\nmemory usage: 41.6+ KB\n"
     ]
    }
   ],
   "source": [
    "cars.info()"
   ]
  },
  {
   "source": [
    "### Variable Identification"
   ],
   "cell_type": "markdown",
   "metadata": {}
  },
  {
   "cell_type": "code",
   "execution_count": 12,
   "metadata": {},
   "outputs": [
    {
     "output_type": "error",
     "ename": "NameError",
     "evalue": "name 'a' is not defined",
     "traceback": [
      "\u001b[0;31m---------------------------------------------------------------------------\u001b[0m",
      "\u001b[0;31mNameError\u001b[0m                                 Traceback (most recent call last)",
      "\u001b[0;32m<ipython-input-12-bc236c14181f>\u001b[0m in \u001b[0;36m<module>\u001b[0;34m\u001b[0m\n\u001b[0;32m----> 1\u001b[0;31m \u001b[0mprice\u001b[0m \u001b[0;34m=\u001b[0m \u001b[0ma\u001b[0m\u001b[0;34m\u001b[0m\u001b[0;34m\u001b[0m\u001b[0m\n\u001b[0m",
      "\u001b[0;31mNameError\u001b[0m: name 'a' is not defined"
     ]
    }
   ],
   "source": [
    "price = a"
   ]
  },
  {
   "cell_type": "code",
   "execution_count": null,
   "metadata": {},
   "outputs": [],
   "source": [
    "symboling = cars.symboling\n",
    "normalized_losses = cars['normalized-losses']\n",
    "make = cars.make\n",
    "fuel_type = cars['fuel-type']\n",
    "aspiration = cars.aspiration"
   ]
  },
  {
   "source": [
    "## Identify Variables:\n",
    "* price: Target\n",
    "* the others are Predictors"
   ],
   "cell_type": "markdown",
   "metadata": {}
  },
  {
   "cell_type": "code",
   "execution_count": null,
   "metadata": {},
   "outputs": [],
   "source": [
    "plt.subplots(1,1, figsize = (18,5))\n",
    "ax = (cars.isnull().sum()).sort_values(ascending = False).plot.bar(color = 'green')\n",
    "plt.title('Lượng giá trị bị mất ở mỗi feature', fontsize = 20)"
   ]
  },
  {
   "cell_type": "code",
   "execution_count": null,
   "metadata": {},
   "outputs": [],
   "source": [
    "# Nội suy một số dự liệu:\n",
    "cars['normalized-losses'] = cars['normalized-losses'].interpolate(method = \"linear\" ,limit_direction = \"both\")\n",
    "\n",
    "cars['price'] = cars['price'].interpolate(method = \"linear\", limit_direction = \"both\")\n",
    "cars['stroke'] = cars['stroke'].interpolate(method = \"linear\", limit_direction = \"both\")\n",
    "cars['bore'] = cars['bore'].interpolate(method = \"linear\", limit_direction = \"both\")\n",
    "cars['peak-rpm'] = cars['peak-rpm'].interpolate(method = \"linear\", limit_direction = \"both\")\n",
    "cars['horsepower'] = cars['horsepower'].interpolate(method = \"linear\", limit_direction = \"both\")"
   ]
  },
  {
   "cell_type": "code",
   "execution_count": null,
   "metadata": {},
   "outputs": [],
   "source": [
    "plt.subplots(1,1, figsize = (18,5))\n",
    "ax = (cars.isnull().sum()).sort_values(ascending = False).plot.bar(color = 'green')\n",
    "plt.title('Lượng giá trị bị mất ở mỗi feature', fontsize = 20)"
   ]
  },
  {
   "cell_type": "code",
   "execution_count": null,
   "metadata": {},
   "outputs": [],
   "source": [
    "# Thay 2 phần tử thiếu\n",
    "cars['num-of-doors'] = cars['num-of-doors'].fillna('four')"
   ]
  },
  {
   "source": [
    "## Univariate Analysis"
   ],
   "cell_type": "markdown",
   "metadata": {}
  },
  {
   "cell_type": "code",
   "execution_count": null,
   "metadata": {},
   "outputs": [],
   "source": [
    "def continuous_univariate_analyze(var):\n",
    "    plt.subplot(2, 2, 1)\n",
    "    sns.boxplot(var)\n",
    "    plt.subplot(2, 2, 4)\n",
    "    sns.distplot(var)\n",
    "    plt.show()\n",
    "    print('Skew: ${}, Kurtosis: ${}'.format(var.skew(), var.kurtosis()))\n",
    "# def categorical_univariate_analyze(var):\n"
   ]
  },
  {
   "cell_type": "code",
   "execution_count": null,
   "metadata": {},
   "outputs": [],
   "source": [
    "continuous_univariate_analyze(cars.price)"
   ]
  },
  {
   "source": [
    "### Nhận xét:\n",
    "* Price không phải là phân phối chuẩn\n",
    "* Price bị lệch phải"
   ],
   "cell_type": "markdown",
   "metadata": {}
  },
  {
   "cell_type": "code",
   "execution_count": null,
   "metadata": {},
   "outputs": [],
   "source": [
    "numeric_variables = ['symboling','normalized-losses','wheel-base','length'\n",
    "          ,'width','height','curb-weight','engine-size','bore'\n",
    "           ,'stroke','compression-ratio','horsepower','peak-rpm'\n",
    "           ,'city-mpg','highway-mpg']\n",
    "\n",
    "cars[numeric_variables].hist(bins=10, figsize=(50,50), layout=(4,4));"
   ]
  },
  {
   "source": [
    "### Nhận xét:\n",
    "* Không có numeric feature nào có phân phối chuẩn"
   ],
   "cell_type": "markdown",
   "metadata": {}
  },
  {
   "cell_type": "code",
   "execution_count": null,
   "metadata": {},
   "outputs": [],
   "source": [
    "corr = cars.corr()\n",
    "\n",
    "plt.figure(figsize=(12,12))\n",
    "ax.set_xticklabels(\n",
    "    ax.get_xticklabels(),\n",
    "    rotation=45,\n",
    "    horizontalalignment='right'\n",
    ")\n",
    "ax = sns.heatmap(\n",
    "    corr,vmin=-1, vmax=1, center=0,\n",
    "    annot=True,\n",
    "    cmap=sns.diverging_palette(20, 220, n=200),\n",
    "    square=True\n",
    ");"
   ]
  },
  {
   "source": [
    "### Nhận xét:\n",
    "* engine_size, horsepower, curb_weight, length và width có tương quan mạnh với car prices"
   ],
   "cell_type": "markdown",
   "metadata": {}
  },
  {
   "cell_type": "code",
   "execution_count": null,
   "metadata": {},
   "outputs": [],
   "source": [
    "plt.figure(figsize=(10,6))\n",
    "plt.plot(cars['engine-size'], price, '.')\n",
    "\n",
    "plt.xlabel('engine-size')\n",
    "plt.ylabel('price')\n",
    "plt.title('Quan hệ giữa engine-size và price');"
   ]
  },
  {
   "source": [
    "### Symboling"
   ],
   "cell_type": "markdown",
   "metadata": {}
  },
  {
   "cell_type": "code",
   "execution_count": null,
   "metadata": {},
   "outputs": [],
   "source": [
    "symboling = auto_train.symboling\n",
    "sns.countplot(symboling)"
   ]
  },
  {
   "cell_type": "code",
   "execution_count": null,
   "metadata": {},
   "outputs": [],
   "source": [
    "symboling.describe()"
   ]
  },
  {
   "cell_type": "code",
   "execution_count": null,
   "metadata": {},
   "outputs": [],
   "source": [
    "auto_train['normalized-losses'].count()"
   ]
  },
  {
   "cell_type": "code",
   "execution_count": null,
   "metadata": {},
   "outputs": [],
   "source": [
    "normalized_losses = auto_train['normalized-losses'].astype('float')\n",
    "continuous_univariate_analyze(normalized_losses)"
   ]
  },
  {
   "cell_type": "code",
   "execution_count": null,
   "metadata": {},
   "outputs": [],
   "source": []
  }
 ],
 "metadata": {
  "kernelspec": {
   "display_name": "Python 3",
   "language": "python",
   "name": "python3"
  },
  "language_info": {
   "codemirror_mode": {
    "name": "ipython",
    "version": 3
   },
   "file_extension": ".py",
   "mimetype": "text/x-python",
   "name": "python",
   "nbconvert_exporter": "python",
   "pygments_lexer": "ipython3",
   "version": "3.8.5-final"
  }
 },
 "nbformat": 4,
 "nbformat_minor": 2
}